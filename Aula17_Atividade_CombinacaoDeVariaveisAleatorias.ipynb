{
 "cells": [
  {
   "cell_type": "markdown",
   "metadata": {},
   "source": [
    "___\n",
    "# Atividade: <p> <center> Propriedades de esperança e variância <p> <center> para Combinação linear de variáveis aleatórias\n",
    "___\n",
    "\n",
    "## Aula 17\n",
    "\n",
    "**Objetivo da aula:** Ao final desta aula, o aluno deve ser capaz de:\n",
    " * Reconhecer variáveis aleatórias de interesse em um problema qualquer; e\n",
    " * Aplicar propriedades de esperança e variância quando se tem combinação linear entre variáveis aleatórias\n"
   ]
  },
  {
   "cell_type": "markdown",
   "metadata": {},
   "source": [
    "___\n",
    "<div id=\"indice\"></div>\n",
    "\n",
    "## Índice\n",
    "\n",
    "- [Motivação teórica: estudo das f.d.p.'s](#motivacao)\n",
    "    - [Exercício 1](#ex1)\n",
    "\n",
    "<p> \n",
    "    \n",
    "- [PROBLEMA: O que significa fazer $X+Y$?](#significa)\n",
    "\n",
    "<p> \n",
    "    \n",
    "- [SIMULAÇÃO: Programando valores para representar $X$, $Y$ e $X+Y$](#simulacao)\n",
    "    - [Simulação com uso de *loop*](#simulacao1)\n",
    "        - [Exercício 2 - Média e Variância via `numpy`](#ex2)\n",
    "    - [Simulação sem uso de *loop* ](#simulacao2)\n",
    "        - [Exercício 3 - Média e Variância via `pandas`](#ex3)\n",
    "\n",
    "<p> \n",
    "\n",
    "- [TEORIA: Contrastando respostas utilizando as propriedades](#teoria)       \n",
    "    - [Propriedades de esperança e variância em combinação linear de variáveis aleatórias](#propriedades)       \n",
    "        - [Exercício 4 - Média e Variância via propriedades](#ex4)\n",
    "\n",
    "<p>\n",
    "    \n",
    "- [Lista de comandos utilizados neste notebook](#comandos)\n",
    "___"
   ]
  },
  {
   "cell_type": "code",
   "execution_count": 209,
   "metadata": {},
   "outputs": [],
   "source": [
    "import pandas as pd\n",
    "import numpy as np\n",
    "from scipy import stats\n",
    "\n",
    "import matplotlib.pyplot as plt\n",
    "%matplotlib inline"
   ]
  },
  {
   "cell_type": "markdown",
   "metadata": {},
   "source": [
    "___\n",
    "<div id=\"motivacao\"></div>\n",
    "\n",
    "# Motivação teórica: estudo das f.d.p.'s\n",
    "\n",
    "A seguir, considere duas variáveis aleatórias $X$ e $Y$, ambas contínuas, cujo objetivo seja somá-las, ou seja, obter $X+Y$!\n",
    "\n",
    "Vamos criar um experimento considerando as seguintes distribuições e parâmetros para $X$ e $Y$, respectivamente:\n",
    "\n",
    " $X \\sim$ Uniforme$(4,7)$, ou seja, $a=4$ e $b=7$\n",
    "\n",
    "e \n",
    "\n",
    " $Y \\sim$ Exponencial$(1/3)$, ou seja, $\\lambda=1/3$ e $\\mu=3$."
   ]
  },
  {
   "cell_type": "markdown",
   "metadata": {},
   "source": [
    "<div id=\"ex1\"></div>\n",
    "\n",
    "### EXERCÍCIO 1\n",
    "\n",
    "Inicialmente, construa um gráfico de ambas as distribuições univariadamente. Veja **Aula 12** caso tenha dúvidas com essas duas distribuições."
   ]
  },
  {
   "cell_type": "code",
   "execution_count": 210,
   "metadata": {},
   "outputs": [
    {
     "data": {
      "image/png": "[encoded data removed]",
      "text/plain": [
       "<Figure size 1000x500 with 2 Axes>"
      ]
     },
     "metadata": {},
     "output_type": "display_data"
    }
   ],
   "source": [
    "# ESCREVA SEU CÓDIGO AQUI\n",
    "a = 4\n",
    "b = 7\n",
    "mu = 3\n",
    "plt.figure(figsize=(10,5))\n",
    "plt.subplot(121)\n",
    "plt.plot(np.arange(a, b, 0.01), stats.uniform.pdf(np.arange(a, b, 0.01), loc=a, scale = b-a))\n",
    "plt.subplot(122)\n",
    "plt.plot(np.arange(a, b, 0.01), stats.expon.pdf(np.arange(a, b, 0.01), scale = mu))\n",
    "plt.show()"
   ]
  },
  {
   "cell_type": "markdown",
   "metadata": {},
   "source": [
    "___\n",
    "<div id=\"significa\"></div>\n",
    "\n",
    "# PROBLEMA: O que significa fazer $X + Y$ ?\n",
    "\n",
    "Considere, **por exemplo**, que um produto passe por duas etapas na linha de produção e o tempo em cada etapa seja mensurados. Assim, assuma que:\n",
    "\n",
    "  * $X$ represente o tempo, em minutos, que um produto demora para passar pela etapa $1$; e\n",
    "  * $Y$ represente o tempo, em minutos, que o mesmo produto demora para passar pela etapa $2$ na linha de produção.\n",
    "  \n",
    "Assim, $W=X+Y$ deverá representar o tempo total que um produto demora para ficar pronto se esse precisa apenas dessas duas etapas na linha de produção.\n",
    "\n",
    "O que vamos entender agora é como podemos analisar o **valor esperado** e a **variância** de $W$ a partir de dados e depois considerando propriedades de esperança e variância."
   ]
  },
  {
   "cell_type": "markdown",
   "metadata": {},
   "source": [
    "___\n",
    "<div id=\"simulacao\"></div>\n",
    "\n",
    "# SIMULAÇÃO: Programando valores para representar $X$, $Y$ e $X+Y$\n",
    "\n",
    "Para estudarmos como ficaria o valor esperado e a variância de $W=X+Y$ a partir de dados, devemos simular alguns valores hipotéticos para representar $X$ conforme a uniforme e $Y$ conforme a exponencial mencionada acima. \n",
    "\n",
    "Para tanto, no `scipy.stats`, a função que gera uma amostra de valores conforme uma distribuição qualquer é a função `rvs()` (de *random variable sample*). No nosso exemplo, vamos utilizar `stats.uniform.rvs()` ou `stats.expon.rvs` com os valores dos parâmetros adequadamente aos citados anteriormente.\n",
    "\n",
    "Assim, faremos:\n",
    "  * Simular $n$ valores para construir uma amostra de $X$ utilizando a distribuição uniforme\n",
    "  * Simular $n$ valores para construir uma amostra de $Y$ utilizando a distribuição exponencial\n",
    "  * A cada linha, somar os valores de $x$ e de $y$ para construir a coluna $w$, já que $W = X + Y$"
   ]
  },
  {
   "cell_type": "markdown",
   "metadata": {},
   "source": [
    "<div id=\"simulacao1\"></div>\n",
    "\n",
    "## Simulação com uso de *loop*:\n",
    "\n",
    "Simulação mais \"lenta\" por fazer uso de `for`. Aqui, será simulado um valor por vez para $x$ e para $y$, calculado a soma e aguardado em $w$."
   ]
  },
  {
   "cell_type": "code",
   "execution_count": 211,
   "metadata": {},
   "outputs": [],
   "source": [
    "n = 50000"
   ]
  },
  {
   "cell_type": "code",
   "execution_count": 212,
   "metadata": {},
   "outputs": [],
   "source": [
    "x_all = []\n",
    "y_all = []\n",
    "w_all = []\n",
    "\n",
    "a = 4  #Início de valor da Uniforme\n",
    "b = 7  #Final de valor da Uniforme\n",
    "mu = 3 #Média da Exponencial\n",
    "\n",
    "for i in range(n):\n",
    "    x = stats.uniform.rvs(loc=a, scale=b-a) #rvs: random variable sample (gera valor aleatório a partir do modelo uniforme)\n",
    "    y = stats.expon.rvs(scale=mu) #rvs: random variable sample (gera valor aleatório a partir do modelo exponencial)\n",
    "    w = x+y\n",
    "    \n",
    "    # Guarda os n valores em lista\n",
    "    x_all.append(x)\n",
    "    y_all.append(y)\n",
    "    w_all.append(w)"
   ]
  },
  {
   "cell_type": "markdown",
   "metadata": {},
   "source": [
    "Dependendo das distribuições somadas, a nova distribuição resultante pode apresentar um outro formato. Ou seja, somar uma uniforme e uma exponencial, pode resultar numa terceira distribuição teórica que pode ou não ser facilmente conhecida na literatura estatística. \n",
    "\n",
    "Vamos visualizar o histograma dos valores de $x$, de $y$ e de $w$, esse último que deve indicar o formato da distribuição resultante."
   ]
  },
  {
   "cell_type": "code",
   "execution_count": 213,
   "metadata": {},
   "outputs": [
    {
     "data": {
      "image/png": "[encoded data removed]",
      "text/plain": [
       "<Figure size 1800x500 with 3 Axes>"
      ]
     },
     "metadata": {},
     "output_type": "display_data"
    }
   ],
   "source": [
    "plt.figure(figsize=(18, 5))\n",
    "\n",
    "plt.subplot(131)\n",
    "plt.hist(x_all, bins=50, density=True,\n",
    "         color='blue', edgecolor='white', \n",
    "         linewidth=1, alpha=0.8)\n",
    "plt.ylabel('densidade')\n",
    "plt.xlabel('valores simulados para x')\n",
    "plt.title('Simulação - Uniforme')\n",
    "#plt.ylim(0,0.35)\n",
    "\n",
    "plt.subplot(132)\n",
    "plt.hist(y_all, bins=50, density=True,\n",
    "         color='orange', edgecolor='white', \n",
    "         linewidth=1, alpha=0.8)\n",
    "plt.ylabel('densidade')\n",
    "plt.xlabel('valores simulados para y')\n",
    "plt.title('Simulação - Exponencial')\n",
    "plt.ylim(0,0.35)\n",
    "\n",
    "plt.subplot(133)\n",
    "plt.hist(w_all, bins=50, density=True,\n",
    "         color='red', edgecolor='white', \n",
    "         linewidth=1, alpha=0.8)\n",
    "plt.ylabel('densidade')\n",
    "plt.xlabel('valores calculados para w')\n",
    "plt.title('W=X+Y')\n",
    "\n",
    "plt.show()"
   ]
  },
  {
   "cell_type": "markdown",
   "metadata": {},
   "source": [
    "\n",
    "**Pontos importantes:** \n",
    "\n",
    "Implementar $X+Y$ é somar os valores de $X$ com os valores de $Y$, linha a linha, e obter uma nova distribuição, cuja área também valerá $1$!!!"
   ]
  },
  {
   "cell_type": "markdown",
   "metadata": {},
   "source": [
    "<div id=\"ex2\"></div>\n",
    "\n",
    "### EXERCÍCIO 2 - Média e Variância via `numpy`\n",
    "\n",
    "Considerando os valores de `x_all`, `y_all` e `w_all`, calcule a média e variância de cada variável. Ainda, calcule covariância e correlação entre `x_all` e `y_all`."
   ]
  },
  {
   "cell_type": "code",
   "execution_count": 214,
   "metadata": {},
   "outputs": [
    {
     "name": "stdout",
     "output_type": "stream",
     "text": [
      "Média de X:  5.496632376720039\n",
      "Média de Y:  3.0075747073341597\n",
      "Média de W:  8.5042070840542\n",
      "Variância de X:  0.7481141902540323\n",
      "Variância de Y:  9.053956025460028\n",
      "Variância de W:  9.796807597377331\n",
      "Covariância entre X e Y:  [[ 7.48129153e-01 -2.63136180e-03]\n",
      " [-2.63136180e-03  9.05413711e+00]]\n",
      "Correlação entre X e Y:  [[ 1.         -0.00101104]\n",
      " [-0.00101104  1.        ]]\n"
     ]
    }
   ],
   "source": [
    "# ESCREVA SEU CÓDIGO AQUI\n",
    "x_avg = np.mean(x_all)\n",
    "y_avg = np.mean(y_all)\n",
    "w_avg = np.mean(w_all)\n",
    "x_var = np.var(x_all)\n",
    "y_var = np.var(y_all)\n",
    "w_var = np.var(w_all)\n",
    "xy_cov = np.cov(x_all, y_all)\n",
    "xy_corr = np.corrcoef(x_all, y_all)\n",
    "\n",
    "print('Média de X: ', x_avg)\n",
    "print('Média de Y: ', y_avg)\n",
    "print('Média de W: ', w_avg)\n",
    "print('Variância de X: ', x_var)\n",
    "print('Variância de Y: ', y_var)\n",
    "print('Variância de W: ', w_var)\n",
    "print('Covariância entre X e Y: ', xy_cov)\n",
    "print('Correlação entre X e Y: ', xy_corr)"
   ]
  },
  {
   "cell_type": "markdown",
   "metadata": {},
   "source": [
    "___\n",
    "\n",
    "<div id=\"simulacao2\"></div>\n",
    "\n",
    "## Simulação sem uso de *loop*:\n",
    "\n",
    "Agora, ao invés de fazer um *loop* para gerar $n$ amostras em Python, podemos pedir à função `rvs()` que realize $n$ sorteios diretamente utilizando o **argumento** `size = n`. "
   ]
  },
  {
   "cell_type": "markdown",
   "metadata": {},
   "source": [
    "Observe que os resultados gerados aqui não se alteram, de maneira geral, mas o desempenho é melhor (mais rápido)."
   ]
  },
  {
   "cell_type": "code",
   "execution_count": 215,
   "metadata": {},
   "outputs": [],
   "source": [
    "x_All = stats.uniform.rvs(loc=a, scale=b-a, size=n)\n",
    "y_All = stats.expon.rvs(scale=mu, size=n)\n",
    "\n",
    "# note que estamos somando elemento a elemento de x_All e y_All e obtendo um novo array\n",
    "w_All = x_All + y_All "
   ]
  },
  {
   "cell_type": "markdown",
   "metadata": {},
   "source": [
    "<div id=\"ex3\"></div>\n",
    "\n",
    "### EXERCÍCIO 3 - Média e Variância via `pandas`\n",
    "\n",
    "Os valores de `x_All`, `y_All` e `w_All`, a seguir, serão colocados em um *dataframe* chamando `df`.\n",
    "\n",
    "Considerando as variáveis `X`, `Y` e `W` desse *dataframe*, calcule a média e variância de cada variável. Ainda, calcule covariância e correlação entre `X` e `Y`.\n",
    "\n",
    "Faça todas as contas utilizando comando do *pandas*.\n"
   ]
  },
  {
   "cell_type": "code",
   "execution_count": 216,
   "metadata": {
    "scrolled": true
   },
   "outputs": [
    {
     "data": {
      "text/html": [
       "<div>\n",
       "<style scoped>\n",
       "    .dataframe tbody tr th:only-of-type {\n",
       "        vertical-align: middle;\n",
       "    }\n",
       "\n",
       "    .dataframe tbody tr th {\n",
       "        vertical-align: top;\n",
       "    }\n",
       "\n",
       "    .dataframe thead th {\n",
       "        text-align: right;\n",
       "    }\n",
       "</style>\n",
       "<table border=\"1\" class=\"dataframe\">\n",
       "  <thead>\n",
       "    <tr style=\"text-align: right;\">\n",
       "      <th></th>\n",
       "      <th>X</th>\n",
       "      <th>Y</th>\n",
       "      <th>W</th>\n",
       "    </tr>\n",
       "  </thead>\n",
       "  <tbody>\n",
       "    <tr>\n",
       "      <th>0</th>\n",
       "      <td>4.636816</td>\n",
       "      <td>3.102850</td>\n",
       "      <td>7.739666</td>\n",
       "    </tr>\n",
       "    <tr>\n",
       "      <th>1</th>\n",
       "      <td>4.512141</td>\n",
       "      <td>1.558035</td>\n",
       "      <td>6.070175</td>\n",
       "    </tr>\n",
       "    <tr>\n",
       "      <th>2</th>\n",
       "      <td>4.654108</td>\n",
       "      <td>3.941518</td>\n",
       "      <td>8.595627</td>\n",
       "    </tr>\n",
       "    <tr>\n",
       "      <th>3</th>\n",
       "      <td>5.372538</td>\n",
       "      <td>2.375290</td>\n",
       "      <td>7.747828</td>\n",
       "    </tr>\n",
       "    <tr>\n",
       "      <th>4</th>\n",
       "      <td>6.674419</td>\n",
       "      <td>12.203624</td>\n",
       "      <td>18.878043</td>\n",
       "    </tr>\n",
       "  </tbody>\n",
       "</table>\n",
       "</div>"
      ],
      "text/plain": [
       "          X          Y          W\n",
       "0  4.636816   3.102850   7.739666\n",
       "1  4.512141   1.558035   6.070175\n",
       "2  4.654108   3.941518   8.595627\n",
       "3  5.372538   2.375290   7.747828\n",
       "4  6.674419  12.203624  18.878043"
      ]
     },
     "execution_count": 216,
     "metadata": {},
     "output_type": "execute_result"
    }
   ],
   "source": [
    "df = pd.DataFrame()\n",
    "df['X'] = x_All\n",
    "df['Y'] = y_All\n",
    "df['W'] = w_All\n",
    "df.head()"
   ]
  },
  {
   "cell_type": "code",
   "execution_count": 217,
   "metadata": {},
   "outputs": [
    {
     "name": "stdout",
     "output_type": "stream",
     "text": [
      "Média de X:  5.498172759235396\n",
      "Média de Y:  2.994122838350454\n",
      "Média de W:  8.492295597585848\n",
      "Variância de X:  0.7506035121370223\n",
      "Variância de Y:  8.997245963813336\n",
      "Variância de W:  9.772278272164046\n",
      "Covariância entre X e Y:  0.012214398106852981\n",
      "Correlação entre X e Y:  0.004700152814568416\n"
     ]
    }
   ],
   "source": [
    "# ESCREVA SEU CÓDIGO AQUI\n",
    "x_avg = df['X'].mean()\n",
    "y_avg = df['Y'].mean()\n",
    "w_avg = df['W'].mean()\n",
    "x_var = df['X'].var()\n",
    "y_var = df['Y'].var()\n",
    "w_var = df['W'].var()\n",
    "xy_cov = df['X'].cov(df['Y'])\n",
    "xy_corr = df['X'].corr(df['Y'])\n",
    "\n",
    "print('Média de X: ', x_avg)\n",
    "print('Média de Y: ', y_avg)\n",
    "print('Média de W: ', w_avg)\n",
    "print('Variância de X: ', x_var)\n",
    "print('Variância de Y: ', y_var)\n",
    "print('Variância de W: ', w_var)\n",
    "print('Covariância entre X e Y: ', xy_cov)\n",
    "print('Correlação entre X e Y: ', xy_corr)"
   ]
  },
  {
   "cell_type": "markdown",
   "metadata": {},
   "source": [
    "___\n",
    "<div id=\"teoria\"></div>\n",
    "\n",
    "\n",
    "# TEORIA: Contrastando respostas utilizando as propriedades\n",
    "\n",
    "Dica: Reveja as aulas de **modelos probabilísticos contínuos** - uniforme e exponencial\n",
    "\n",
    "Relembrando:\n",
    "\n",
    "### Para a Uniforme:\n",
    "\n",
    "Utilizando o resultado teórico da distribuição Uniforme, temos que o valor esperado é dado por:\n",
    "\n",
    "$$E(X) = \\frac{a + b}{2} = 5.5$$\n",
    "\n",
    "Já a variância de uma variável com distribuição Uniforme é dada por:\n",
    "\n",
    "$$Var(X) = \\frac{(b-a)^2}{12} = 0.75$$\n",
    "\n",
    "\n",
    "### Para a exponencial:\n",
    "\n",
    "Utilizando o resultado teórica da distribuição Exponencial, temos que o valor esperado é dado por:\n",
    "\n",
    "$$E(Y) = \\mu = 3$$\n",
    "\n",
    "Já a variância de uma variável com distribuição Exponencial é dada por:\n",
    "\n",
    "$$Var(Y) = \\mu^2 = 9$$"
   ]
  },
  {
   "cell_type": "markdown",
   "metadata": {},
   "source": [
    "___\n",
    "<div id=\"propriedades\"></div>\n",
    "\n",
    "## Propriedades de esperança e variância em combinação linear de variáveis aleatórias\n",
    "\n",
    "\n",
    "### E(W): Valor esperado da W calculada a partir da teoria\n",
    "\n",
    "**Previsão teórica:**\n",
    "\n",
    "**$\\qquad E(W) = E(X)  + E(Y)$**\n",
    "\n",
    "$\\quad$\n",
    "\n",
    "### Var(W): Variância da W calculada a partir da teoria\n",
    "\n",
    "**Previsão teórica:**\n",
    "\n",
    "**$\\qquad Var(W) = Var(X) + Var(Y) + 2 * Cov(X,Y)$**\n",
    "\n",
    "$\\quad$\n",
    "\n",
    "Assuma que as variáveis $X$ e $Y$ são **INDEPENDENTES** até mesmo pela maneira que foram geradas.\n",
    "\n"
   ]
  },
  {
   "cell_type": "markdown",
   "metadata": {},
   "source": [
    "<div id=\"ex4\"></div>\n",
    "\n",
    "### EXERCÍCIO 4 - Média e Variância via propriedades\n",
    "\n",
    "Considerando os resultados teóricos para $E(X)$, $E(Y)$, $Var(X)$, $Var(Y)$ e $Cov(X,Y)$, calcule o valor esperado e a variância de $W$. \n",
    "\n",
    "Compare os valores obtidos para $E(W)$ e $Var(W)$ com os obtidos nos exercícios [Exercício 2](#ex2) e [Exercício 3](#ex3).\n"
   ]
  },
  {
   "cell_type": "code",
   "execution_count": 218,
   "metadata": {},
   "outputs": [
    {
     "data": {
      "text/plain": [
       "8.49229559758585"
      ]
     },
     "execution_count": 218,
     "metadata": {},
     "output_type": "execute_result"
    }
   ],
   "source": [
    "# ESCREVA SEU CÓDIGO AQUI\n",
    "e_w = x_avg + y_avg\n",
    "e_w"
   ]
  },
  {
   "cell_type": "code",
   "execution_count": 219,
   "metadata": {},
   "outputs": [
    {
     "data": {
      "text/plain": [
       "9.772278272164064"
      ]
     },
     "execution_count": 219,
     "metadata": {},
     "output_type": "execute_result"
    }
   ],
   "source": [
    "var_w = x_var + y_var + 2*xy_cov\n",
    "var_w"
   ]
  },
  {
   "cell_type": "markdown",
   "metadata": {},
   "source": [
    "Comparando os resultados SIMULADOS com os calculados por PROPRIEDADES:"
   ]
  },
  {
   "cell_type": "code",
   "execution_count": 220,
   "metadata": {},
   "outputs": [
    {
     "name": "stdout",
     "output_type": "stream",
     "text": [
      "Média de W dado:  8.492295597585848\n",
      "Média de W prop:  8.49229559758585\n",
      "Variância de W:  9.772278272164046\n",
      "Variância de W prop:  9.772278272164064\n"
     ]
    }
   ],
   "source": [
    "print('Média de W dado: ', w_avg)\n",
    "print('Média de W prop: ', e_w)\n",
    "print('Variância de W: ', w_var)\n",
    "print('Variância de W prop: ', var_w)"
   ]
  },
  {
   "cell_type": "markdown",
   "metadata": {},
   "source": [
    "___\n",
    "<div id=\"comandos\"></div>\n",
    "\n",
    "## Lista de comandos utilizados neste notebook\n",
    "\n",
    "Coloque aqui a lista de novos comandos deste notebook:\n",
    "\n",
    " * \n",
    " "
   ]
  }
 ],
 "metadata": {
  "kernelspec": {
   "display_name": "Python 3",
   "language": "python",
   "name": "python3"
  },
  "language_info": {
   "codemirror_mode": {
    "name": "ipython",
    "version": 3
   },
   "file_extension": ".py",
   "mimetype": "text/x-python",
   "name": "python",
   "nbconvert_exporter": "python",
   "pygments_lexer": "ipython3",
   "version": "3.10.13"
  }
 },
 "nbformat": 4,
 "nbformat_minor": 4
}
