{
 "cells": [
  {
   "cell_type": "markdown",
   "metadata": {},
   "source": [
    "___\n",
    "# Exemplo: <p> <center> Uso do TLC\n",
    "___\n",
    "    \n",
    "## Aula 19"
   ]
  },
  {
   "cell_type": "code",
   "execution_count": 30,
   "metadata": {},
   "outputs": [],
   "source": [
    "from scipy import stats\n",
    "from math import sqrt"
   ]
  },
  {
   "cell_type": "markdown",
   "metadata": {},
   "source": [
    "## Exemplo\n",
    "\n",
    "O tempo que uma recepcionista leva para atender uma chamada segue uma distribuição exponencial com média populacional 60 segundos e com desvio padrão populacional igual a 60 segundos. <br>"
   ]
  },
  {
   "cell_type": "markdown",
   "metadata": {},
   "source": [
    "a) Qual a probabilidade de que uma recepcionista qualquer demore menos do que 40 segundos para atender uma chamada? <br>"
   ]
  },
  {
   "cell_type": "code",
   "execution_count": 31,
   "metadata": {},
   "outputs": [
    {
     "data": {
      "text/plain": [
       "0.486582880967408"
      ]
     },
     "execution_count": 31,
     "metadata": {},
     "output_type": "execute_result"
    }
   ],
   "source": [
    "# ESCREVA SUA RESPOSTA AQUI\n",
    "stats.expon.cdf(40, scale=60)"
   ]
  },
  {
   "cell_type": "markdown",
   "metadata": {},
   "source": [
    "Uma amostra de 90 recepcionistas passou por um treinamento visando diminuir o tempo médio de atendimento. <br>\n",
    "Após o treinamento, elas tiveram o seu tempo de atendimento registrado. <br>\n",
    "Assumindo que esse treinamento não foi eficaz (ou seja, se não houve alteração no tempo médio populacional comparado a antes do treinamento), calcule:"
   ]
  },
  {
   "cell_type": "markdown",
   "metadata": {},
   "source": [
    "b) Qual a probabilidade de encontrar uma amostra cujo tempo médio amostral seja inferior a 40 segundos? <br>"
   ]
  },
  {
   "cell_type": "code",
   "execution_count": 32,
   "metadata": {},
   "outputs": [
    {
     "data": {
      "text/plain": [
       "0.000782701129001274"
      ]
     },
     "execution_count": 32,
     "metadata": {},
     "output_type": "execute_result"
    }
   ],
   "source": [
    "# ESCREVA SUA RESPOSTA AQUI\n",
    "stats.norm.cdf(40, loc=60, scale=(60/90**0.5))"
   ]
  },
  {
   "cell_type": "markdown",
   "metadata": {},
   "source": [
    "c) Encontre o tempo médio amostral que separa 1% dos menores tempos médios amostrais dos demais 99% maiores tempos médios amostrais? <br>"
   ]
  },
  {
   "cell_type": "code",
   "execution_count": 37,
   "metadata": {},
   "outputs": [
    {
     "data": {
      "text/plain": [
       "45.28688417628089"
      ]
     },
     "execution_count": 37,
     "metadata": {},
     "output_type": "execute_result"
    }
   ],
   "source": [
    "# ESCREVA SUA RESPOSTA AQUI\n",
    "stats.norm.ppf(0.01, loc=60, scale=(60/90**0.5))"
   ]
  },
  {
   "cell_type": "markdown",
   "metadata": {},
   "source": [
    "d) Uma amostra de 90 recepcionista foi selecionada e, após treinamento, o tempo médio dessa amostra  foi de 40 segundos. Você considera que há indícios de que o treino foi eficaz? Justifique sua resposta com cálculo de probabilidades.<br>"
   ]
  },
  {
   "cell_type": "code",
   "execution_count": 38,
   "metadata": {},
   "outputs": [
    {
     "data": {
      "text/plain": [
       "0.0008821032355122297"
      ]
     },
     "execution_count": 38,
     "metadata": {},
     "output_type": "execute_result"
    }
   ],
   "source": [
    "# ESCREVA SUA RESPOSTA AQUI\n",
    "stats.norm.cdf(41, loc=60, scale=(60/90**0.5)) - stats.norm.cdf(39, loc=60, scale=(60/90**0.5))\n",
    "# A probabilidade de estar relativamente próximo de 40 segundos é muito baixa caso o treinamento não tenha sido eficaz,\n",
    "# então há algum indício, mas por se tratar de apenas uma amostra, nada pode ser garantido"
   ]
  },
  {
   "cell_type": "markdown",
   "metadata": {},
   "source": [
    "e) Que suposições você fez para resolver este problema? <br>"
   ]
  },
  {
   "cell_type": "code",
   "execution_count": 35,
   "metadata": {},
   "outputs": [],
   "source": [
    "# ESCREVA SUA RESPOSTA AQUI"
   ]
  },
  {
   "cell_type": "code",
   "execution_count": null,
   "metadata": {},
   "outputs": [],
   "source": []
  }
 ],
 "metadata": {
  "hide_input": false,
  "kernelspec": {
   "display_name": "Python 3",
   "language": "python",
   "name": "python3"
  },
  "language_info": {
   "codemirror_mode": {
    "name": "ipython",
    "version": 3
   },
   "file_extension": ".py",
   "mimetype": "text/x-python",
   "name": "python",
   "nbconvert_exporter": "python",
   "pygments_lexer": "ipython3",
   "version": "3.10.13"
  }
 },
 "nbformat": 4,
 "nbformat_minor": 2
}
