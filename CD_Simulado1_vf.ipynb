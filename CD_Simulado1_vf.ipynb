{
 "cells": [
  {
   "cell_type": "markdown",
   "metadata": {},
   "source": [
    "___\n",
    "# SIMULADO 1 \n",
    "\n",
    "## 2023 - 2o. semestre \n",
    "\n",
    "___\n"
   ]
  },
  {
   "cell_type": "markdown",
   "metadata": {},
   "source": [
    "## NOME: Coloque seu nome AQUI!"
   ]
  },
  {
   "cell_type": "markdown",
   "metadata": {},
   "source": [
    "___\n",
    "# ATENÇÃO:\n",
    "\n",
    "Leia antes todas as instruções colocadas no teste dentro do Blackboard.\n"
   ]
  },
  {
   "cell_type": "code",
   "execution_count": 62,
   "metadata": {},
   "outputs": [],
   "source": [
    "# %matplotlib inline\n",
    "import math\n",
    "from math import sqrt\n",
    "\n",
    "import os\n",
    "import matplotlib.pyplot as plt\n",
    "import numpy as np\n",
    "from numpy import arange, linspace\n",
    "import pandas as pd\n",
    "\n",
    "from IPython.display import display  # Para ter melhor print.\n",
    "\n",
    "# Pode trazer mais bibliotecas, caso julgue interessante!!"
   ]
  },
  {
   "cell_type": "markdown",
   "metadata": {},
   "source": [
    "<div id=\"indice\"></div>\n",
    "\n",
    "# Índice\n",
    "\n",
    "1. [Pergunta 1](#p1)\n",
    "\n",
    "1. [Pergunta 2](#p2)\n",
    "\n",
    "1. [Pergunta 3](#p3)\n",
    "\n",
    "1. [Pergunta 4](#p4)\n",
    "\n",
    "1. [Pergunta 5](#p5)\n",
    "\n"
   ]
  },
  {
   "cell_type": "markdown",
   "metadata": {},
   "source": [
    "___\n",
    "<div id=\"p1\"></div>\n",
    "\n",
    "## PERGUNTA 1"
   ]
  },
  {
   "cell_type": "markdown",
   "metadata": {},
   "source": [
    "Leia o enunciado da Pergunta 1 descrito no Blackboard."
   ]
  },
  {
   "cell_type": "markdown",
   "metadata": {},
   "source": [
    "**P1** Leia a pergunta no Blackboard."
   ]
  },
  {
   "cell_type": "code",
   "execution_count": 63,
   "metadata": {},
   "outputs": [],
   "source": [
    "# Dados Enunciado\n",
    "PB = 0.755 # --> Probabilidade de ser um bom pagador \n",
    "PM = 1 - PB # --> Probabilidade de ser um mau pagador\n",
    "PCdB = 0.73 # --> Probabilidade de ter uma casa dado que é um bom pagador\n",
    "PCcdB = 1 - PCdB # --> Probabilidade de não ter uma casa dado que é um bom pagador\n",
    "PCdM = 0.41 # --> Probabilidade de ter uma casa dado que é um mau pagador\n",
    "PCcdM = 1- PCdM # --> Probabilidade de não ter uma casa dado que é um mau pagador\n",
    "\n",
    "# Cálculos\n",
    "PMiC = PCdM*PM # --> Probabilidade de ser um mau pagador intersecção com a probabilidade de ter uma casa \n",
    "PBiC = PCdB*PB # --> Probabilidade de ser um bom pagador intersecção com a probabilidade de ter uma casa \n",
    "PC = PMiC + PBiC # --> Probabilidade de ter uma casa\n",
    "\n",
    "# Resposta\n",
    "PMdC = PMiC/PC # --> Probabilidade de ser um mau pagador dado que tem uma casa"
   ]
  },
  {
   "cell_type": "code",
   "execution_count": 64,
   "metadata": {},
   "outputs": [
    {
     "data": {
      "text/plain": [
       "0.1542"
      ]
     },
     "execution_count": 64,
     "metadata": {},
     "output_type": "execute_result"
    }
   ],
   "source": [
    "# Resposta arredondada\n",
    "round(PMdC, 4)"
   ]
  },
  {
   "cell_type": "markdown",
   "metadata": {},
   "source": [
    "[Voltar ao Índice](#indice)"
   ]
  },
  {
   "cell_type": "markdown",
   "metadata": {},
   "source": [
    "___\n",
    "<div id=\"p2\"></div>\n",
    "\n",
    "\n",
    "## PERGUNTA 2"
   ]
  },
  {
   "cell_type": "markdown",
   "metadata": {},
   "source": [
    "Leia o enunciado da Pergunta 2 descrito no Blackboard."
   ]
  },
  {
   "cell_type": "markdown",
   "metadata": {},
   "source": [
    "**P2** Leia a pergunta no Blackboard."
   ]
  },
  {
   "cell_type": "code",
   "execution_count": 65,
   "metadata": {},
   "outputs": [],
   "source": [
    "# Dados Enunciado\n",
    "PB = 0.755 # --> Probabilidade de ser um bom pagador \n",
    "PM = 1 - PB # --> Probabilidade de ser um mau pagador\n",
    "PEdB = 0.119 # --> Probabilidade de ser um financiamento de educação dado que é um bom pagador\n",
    "PEl = 0.4 # --> Probabilidade de ser um financiamento de eletrônico\n",
    "PBdE = 0.9 # --> Probabilidade de ser um bom pagador dado que é um financiamento de educação\n",
    "\n",
    "# Cálculos\n",
    "PEiB = PEdB*PB # --> Probabilidade de ser um financiamento de educação intersecção com a probabilidade de ser um bom pagador \n",
    "PE = PEiB/PBdE # --> Probabilidade de ser um financiamento de educação\n",
    "\n",
    "# Resposta\n",
    "PC = 1 - PEl - PE # --> Probabilidade de ser um financiamento de carro\n"
   ]
  },
  {
   "cell_type": "code",
   "execution_count": 66,
   "metadata": {},
   "outputs": [
    {
     "data": {
      "text/plain": [
       "0.5002"
      ]
     },
     "execution_count": 66,
     "metadata": {},
     "output_type": "execute_result"
    }
   ],
   "source": [
    "# Resposta arredondada\n",
    "round(PC, 4)"
   ]
  },
  {
   "cell_type": "markdown",
   "metadata": {},
   "source": [
    "[Voltar ao Índice](#indice)"
   ]
  },
  {
   "cell_type": "markdown",
   "metadata": {},
   "source": [
    "___\n",
    "<div id=\"p3\"></div>\n",
    "\n",
    "\n",
    "## PERGUNTA 3"
   ]
  },
  {
   "cell_type": "markdown",
   "metadata": {},
   "source": [
    "Leia o enunciado da Pergunta 3 descrito no Blackboard."
   ]
  },
  {
   "cell_type": "markdown",
   "metadata": {},
   "source": [
    "**P3** Leia a pergunta no Blackboard."
   ]
  },
  {
   "cell_type": "code",
   "execution_count": 67,
   "metadata": {},
   "outputs": [],
   "source": [
    "# Dados Enunciado\n",
    "PEc = 0.7 # --> Probabilidade de não gerar engajamento\n",
    "PE = 1 - PEc # --> Probabilidade de gerar engajamento\n",
    "PUdEc = 0.25 # --> Probabilidade de usar hashtag dado que não gerou engajamento\n",
    "PUcdEc = 1 - PUdEc # --> Probabilidade de não usar hashtag dado que não gerou engajamento\n",
    "PUdE = 0.65 # --> Probabilidade de usar hashtag dado que gerou engajamento\n",
    "PUcdE = 1 - PUdE # --> Probabilidade de não usar hashtag dado que não gerou engajamento\n",
    "\n",
    "# Cálculos\n",
    "PEiUc = PE*PUcdE # --> Probabilidade de ter gerado engajamento intersecção com a probabilidade de não usar hashtag \n",
    "PEciUc = PEc*PUcdEc # --> Probabilidade de não ter gerado engajamento intersecção com a probabilidade de não usar hashtag \n",
    "PUc = PEiUc + PEciUc # --> Probabilidade de não usar hashtag\n",
    "\n",
    "# Resposta\n",
    "PEdUc = PEiUc/PUc # --> Probabilidade de ter gerado engajamento dado que não usou hashtag"
   ]
  },
  {
   "cell_type": "code",
   "execution_count": 68,
   "metadata": {},
   "outputs": [
    {
     "data": {
      "text/plain": [
       "0.1667"
      ]
     },
     "execution_count": 68,
     "metadata": {},
     "output_type": "execute_result"
    }
   ],
   "source": [
    "# Resposta arredondada\n",
    "round(PEdUc, 4)"
   ]
  },
  {
   "cell_type": "markdown",
   "metadata": {},
   "source": [
    "[Voltar ao Índice](#indice)"
   ]
  },
  {
   "cell_type": "markdown",
   "metadata": {},
   "source": [
    "___\n",
    "<div id=\"p4\"></div>\n",
    "\n",
    "\n",
    "## PERGUNTA 4"
   ]
  },
  {
   "cell_type": "markdown",
   "metadata": {},
   "source": [
    "Leia o enunciado da Pergunta 4 descrito no Blackboard."
   ]
  },
  {
   "cell_type": "markdown",
   "metadata": {},
   "source": [
    "**P4** Leia a pergunta no Blackboard."
   ]
  },
  {
   "cell_type": "code",
   "execution_count": 69,
   "metadata": {},
   "outputs": [],
   "source": [
    "# Dados Enunciado\n",
    "PEc = 0.7 # --> Probabilidade de não gerar engajamento\n",
    "PE = 1 - PEc # --> Probabilidade de gerar engajamento\n",
    "PDdEc = 0.3 # --> Probabilidade de ter sido feito de dia dado que não gerou engajamento\n",
    "PDcdEc = 1 - PDdEc # --> Probabilidade de não ter sido feito de dia dado que não gerou engajamento\n",
    "PEdD = 0.5625 # --> Probabilidade de ter gerado engajamento dado que foi feito de dia\n",
    "\n",
    "# Cálculos\n",
    "PDiEc = PEc*PDdEc # --> Probabilidade de ter sido feito de dia intersecção com a probabilidade de não ter gerado engajamento \n",
    "\n",
    "# Resposta\n",
    "PD = PDiEc/(1-PEdD) # --> Probabilidade de ter sido feito de dia"
   ]
  },
  {
   "cell_type": "code",
   "execution_count": 70,
   "metadata": {},
   "outputs": [
    {
     "data": {
      "text/plain": [
       "0.48"
      ]
     },
     "execution_count": 70,
     "metadata": {},
     "output_type": "execute_result"
    }
   ],
   "source": [
    "# Resposta arredondada\n",
    "round(PD, 4)"
   ]
  },
  {
   "cell_type": "markdown",
   "metadata": {},
   "source": [
    "[Voltar ao Índice](#indice)"
   ]
  },
  {
   "cell_type": "markdown",
   "metadata": {},
   "source": [
    "___\n",
    "<div id=\"p5\"></div>\n",
    "\n",
    "\n",
    "## PERGUNTA 5"
   ]
  },
  {
   "cell_type": "markdown",
   "metadata": {},
   "source": [
    "Leia o enunciado da Pergunta 5 descrito no Blackboard."
   ]
  },
  {
   "cell_type": "markdown",
   "metadata": {},
   "source": [
    "**P5** Leia a pergunta no Blackboard."
   ]
  },
  {
   "cell_type": "code",
   "execution_count": 71,
   "metadata": {},
   "outputs": [],
   "source": [
    "# Dados Enunciado\n",
    "PEc = 0.7 # --> Probabilidade de não gerar engajamento\n",
    "PE = 1 - PEc # --> Probabilidade de gerar engajamento\n",
    "PF = 0.607 # --> Probabilidade de ter sido no feed\n",
    "PS = 1 - PF # --> Probabilidade de ter sido nos stories\n",
    "PSdEc = 0.24 # --> Probabilidade de ter sido nos stories dado que não gerou engajamento\n",
    "\n",
    "# Cálculos\n",
    "PSiEc = PSdEc*PEc # --> Probabilidade de ter sido nos stories intersecção com a probabilidade de não ter gerado engajamento \n",
    "PSiE = PS - PSiEc # --> Probabilidade de ter sido nos stories intersecção com a probabilidade de ter gerado engajamento \n",
    "\n",
    "# Resposta\n",
    "PEdS = PSiE/PS # --> Probabilidade de ter gerado engajamento dado que foi nos stories"
   ]
  },
  {
   "cell_type": "code",
   "execution_count": 72,
   "metadata": {},
   "outputs": [
    {
     "data": {
      "text/plain": [
       "0.5725"
      ]
     },
     "execution_count": 72,
     "metadata": {},
     "output_type": "execute_result"
    }
   ],
   "source": [
    "# Resposta arredondada\n",
    "round(PEdS, 4)"
   ]
  },
  {
   "cell_type": "markdown",
   "metadata": {},
   "source": [
    "[Voltar ao Índice](#indice)"
   ]
  }
 ],
 "metadata": {
  "kernelspec": {
   "display_name": "Python 3",
   "language": "python",
   "name": "python3"
  },
  "language_info": {
   "codemirror_mode": {
    "name": "ipython",
    "version": 3
   },
   "file_extension": ".py",
   "mimetype": "text/x-python",
   "name": "python",
   "nbconvert_exporter": "python",
   "pygments_lexer": "ipython3",
   "version": "3.10.9"
  }
 },
 "nbformat": 4,
 "nbformat_minor": 4
}
