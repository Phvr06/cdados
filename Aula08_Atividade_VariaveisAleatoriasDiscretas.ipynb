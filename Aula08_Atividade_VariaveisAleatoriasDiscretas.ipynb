{
 "cells": [
  {
   "cell_type": "markdown",
   "metadata": {},
   "source": [
    "___\n",
    "# Atividade: <p> <center> Variáveis aleatórias discretas\n",
    "___\n",
    "\n",
    "## Aula 08\n",
    "\n",
    "**Objetivo da aula:** Ao final desta aula, o aluno deve ser capaz de:\n",
    " * Descrever e aplicar propriedades de distribuições de probabilidades de variáveis aleatórias discretas; e\n",
    " * Compreender e aplicar propriedades de esperança e variância.\n"
   ]
  },
  {
   "cell_type": "markdown",
   "metadata": {},
   "source": [
    "___\n",
    "<div id=\"indice\"></div>\n",
    "\n",
    "## Índice\n",
    "\n",
    "- [Corretora de Seguros](#corretora-de-seguros)\n",
    "    - [Exercício 1](#ex1)\n",
    "    - [Exercício 2](#ex2)\n",
    "    - [Exercício 3](#ex3)\n",
    "    - [Exercício 4](#ex4)\n",
    "    - [Exercício 5](#ex5)\n",
    "    - [Exercício 6](#ex6)\n"
   ]
  },
  {
   "cell_type": "code",
   "execution_count": 121,
   "metadata": {},
   "outputs": [],
   "source": [
    "import numpy as np\n",
    "import random\n",
    "import pandas as pd"
   ]
  },
  {
   "cell_type": "markdown",
   "metadata": {},
   "source": [
    "___\n",
    "<div id=\"corretora-de-seguros\"></div>\n",
    "\n",
    "## Corretora de Seguros\n",
    "\n",
    "Uma corretora de seguros paga uma comissão de R\\\\$ 50,00 a cada novo seguro que um corretor vende. <br>\n",
    "A probabilidade de um cliente adquirir o seguro é de 0,20. <br> \n",
    "a) Descreva como pode se comportar a comissão se um corretor ao abordar 2 clientes de maneira independente um do outro.<br>\n",
    "b) Qual a probabilidade de um corretor ganhar apenas R\\\\$ 50,00?"
   ]
  },
  {
   "cell_type": "markdown",
   "metadata": {},
   "source": [
    "**Resolução:** <p>\n",
    "Primeiramente, vamos definir os seguintes eventos de acordo com enunciado:\n",
    "\n",
    "- $S_i$: o cliente $i$ compra o seguro;\n",
    "- $N_i ou S_i^C$: o cliente $i$ não compra o seguro.\n",
    "\n",
    "Ainda, pelo enunciado sabemos que:\n",
    "\n",
    "- $P(S_i) = 0.2$\n",
    "- $P(N_i) = P(S_i^C) = 1 - P(S_i) = 0.8$"
   ]
  },
  {
   "cell_type": "markdown",
   "metadata": {},
   "source": [
    "**item (a)**<br>\n",
    "Lendo o enunciado, é fácil perceber que os possíveis valores que o corretor pode receber ao final de duas visitas são: \n",
    "**0 reais**, **50 reais** ou **100 reais**. <br>\n",
    "Porém, qual a probabilidade que representa cada um desses valores acontecerem? Seria 1/3? <p>\n",
    "A seguir, mostramos como construir a **distribuição de probabilidades desses possíveis valores que representam a comissão do corretor** ao final das duas visitas."
   ]
  },
  {
   "cell_type": "markdown",
   "metadata": {},
   "source": [
    "Listando todas as possíveis combinações de eventos de compra ou não compra do seguro de cada cliente, temos:\n",
    "\n",
    "Cliente 1 | Cliente 2 | &nbsp; Probabilidade &nbsp; &nbsp;&nbsp; &nbsp; | Valor da comissão\n",
    ":-------: | :-------: | :--------------------------:| :---:\n",
    "$N_1$     | $N_2$     | $P(N_1)P(N_2|N_1)$ = $0.64$ | 0\n",
    "$N_1$     | $S_2$     | $P(N_1)P(S_2|N_1)$ = $0.16$ | 50\n",
    "$S_1$     | $N_2$     | $P(S_1)P(N_2|S_1)$ = $0.16$ | 50\n",
    "$S_1$     | $S_2$     | $P(S_1)P(S_2|S_1)$ = $0.04$ | 100\n",
    "\n",
    "<br>\n",
    "\n",
    "Agora, como estamos interessados em descrever os possíveis valores da comissão de um corretor e suas respectivas probabilidade, vamos definir uma letra que represente essa variável aleatória:\n",
    "\n",
    "- $X$: valor da comissão do corretor ao final do dia, representando um valor aleatório;\n",
    "\n",
    "em que $x$ = 0; 50; e 100 representando os possíveis valores que essa variável aleatória $X$ pode assumir.\n",
    "\n",
    "\n",
    "**item (b)**<br>\n",
    "Assim, o qual é o valor de $P(X=50)$?\n",
    "\n",
    "Consultando a tabela construída acima, vemos que $P(X=50) = 0.16 + 0.16 = 0.32$."
   ]
  },
  {
   "cell_type": "markdown",
   "metadata": {},
   "source": [
    "<div id=\"ex1\"></div>\n",
    "\n",
    "### EXERCÍCIO 1\n",
    "\n",
    "Calcule o valor esperado e a variância da variável $X$.\n",
    "\n",
    "*Resposta esperada para esperança e variância respectivamente: 20.0 reais ; 800.0 reais^2*"
   ]
  },
  {
   "cell_type": "code",
   "execution_count": 122,
   "metadata": {},
   "outputs": [
    {
     "data": {
      "text/plain": [
       "20.0"
      ]
     },
     "execution_count": 122,
     "metadata": {},
     "output_type": "execute_result"
    }
   ],
   "source": [
    "# ESCREVA SEU CÓDIGO AQUI\n",
    "P_N = 0.8\n",
    "P_S = 0.2\n",
    "P_NN = P_N*P_N\n",
    "P_SN = 2*P_S*P_N\n",
    "P_SS = P_S*P_S\n",
    "\n",
    "esp = np.average([0,50,100], weights=[P_NN, P_SN, P_SS])\n",
    "esp"
   ]
  },
  {
   "cell_type": "code",
   "execution_count": 123,
   "metadata": {},
   "outputs": [
    {
     "data": {
      "text/plain": [
       "800.0"
      ]
     },
     "execution_count": 123,
     "metadata": {},
     "output_type": "execute_result"
    }
   ],
   "source": [
    "var = np.average(([0,50,100]-esp)**2, weights=[P_NN, P_SN, P_SS])\n",
    "var"
   ]
  },
  {
   "cell_type": "markdown",
   "metadata": {},
   "source": [
    "___\n",
    "## Tomando uma decisão\n",
    "\n",
    "Imagine que a corretora de seguros irá fornecer um aumento na comissão dos corretores. Entretanto, cada corretor poderá escolher uma das seguintes opções:\n",
    "\n",
    "- **Opção 1:** Defina $Y$ como a nova comissão que será a comissão atual mais um fixo de R\\\\$ 30,00;\n",
    "- **Opção 2:** Defina $W$ como a nova comissão será o triplo da atual comissão.\n",
    "\n",
    "<br>\n",
    "\n",
    "A ideia aqui é fazer uma escolha de qual delas é melhor para aumentar o ganho de um corretor. \n",
    "\n",
    "Para isso, resolva os exercícios a seguir para auxiliá-lo nessa escolha."
   ]
  },
  {
   "cell_type": "markdown",
   "metadata": {},
   "source": [
    "<div id=\"ex2\"></div>\n",
    "\n",
    "### EXERCÍCIO 2\n",
    "\n",
    "Construa a distribuição de probabilidade de $Y$ e de $W$ de acordo com cada uma das opções descritas acima.\n"
   ]
  },
  {
   "cell_type": "markdown",
   "metadata": {},
   "source": [
    "Cliente 1 | Cliente 2 | &nbsp; Probabilidade &nbsp; &nbsp;&nbsp; &nbsp; | Y: Valor da comissão\n",
    ":-------: | :-------: | :--------------------------:| :---:\n",
    "$N_1$     | $N_2$     | $P(N_1)P(N_2|N_1)$ = $0.64$ | 30\n",
    "$N_1$     | $S_2$     | $P(N_1)P(S_2|N_1)$ = $0.16$ | 80\n",
    "$S_1$     | $N_2$     | $P(S_1)P(N_2|S_1)$ = $0.16$ | 80\n",
    "$S_1$     | $S_2$     | $P(S_1)P(S_2|S_1)$ = $0.04$ | 130\n"
   ]
  },
  {
   "cell_type": "markdown",
   "metadata": {},
   "source": [
    "Cliente 1 | Cliente 2 | &nbsp; Probabilidade &nbsp; &nbsp;&nbsp; &nbsp; | W: Valor da comissão\n",
    ":-------: | :-------: | :--------------------------:| :---:\n",
    "$N_1$     | $N_2$     | $P(N_1)P(N_2|N_1)$ = $0.64$ | 0\n",
    "$N_1$     | $S_2$     | $P(N_1)P(S_2|N_1)$ = $0.16$ | 150\n",
    "$S_1$     | $N_2$     | $P(S_1)P(N_2|S_1)$ = $0.16$ | 150\n",
    "$S_1$     | $S_2$     | $P(S_1)P(S_2|S_1)$ = $0.04$ | 300"
   ]
  },
  {
   "cell_type": "markdown",
   "metadata": {},
   "source": [
    "<div id=\"ex3\"></div>\n",
    "\n",
    "### EXERCÍCIO 3\n",
    "\n",
    "Considerando as respectivas distribuições de probabilidades, calcule o valor esperado e a variância para cada opção. "
   ]
  },
  {
   "cell_type": "code",
   "execution_count": 124,
   "metadata": {},
   "outputs": [
    {
     "data": {
      "text/plain": [
       "50.0"
      ]
     },
     "execution_count": 124,
     "metadata": {},
     "output_type": "execute_result"
    }
   ],
   "source": [
    "# Y\n",
    "esp_y = np.average([30,80,130], weights=[P_NN, P_SN, P_SS])\n",
    "esp_y"
   ]
  },
  {
   "cell_type": "code",
   "execution_count": 125,
   "metadata": {},
   "outputs": [
    {
     "data": {
      "text/plain": [
       "800.0"
      ]
     },
     "execution_count": 125,
     "metadata": {},
     "output_type": "execute_result"
    }
   ],
   "source": [
    "var_y = np.average(([30,80,130]-esp_y)**2, weights=[P_NN, P_SN, P_SS])\n",
    "var_y"
   ]
  },
  {
   "cell_type": "code",
   "execution_count": 126,
   "metadata": {},
   "outputs": [
    {
     "data": {
      "text/plain": [
       "59.99999999999999"
      ]
     },
     "execution_count": 126,
     "metadata": {},
     "output_type": "execute_result"
    }
   ],
   "source": [
    "# W\n",
    "esp_w = np.average([0,150,300], weights=[P_NN, P_SN, P_SS])\n",
    "esp_w"
   ]
  },
  {
   "cell_type": "code",
   "execution_count": 127,
   "metadata": {},
   "outputs": [
    {
     "data": {
      "text/plain": [
       "7199.999999999998"
      ]
     },
     "execution_count": 127,
     "metadata": {},
     "output_type": "execute_result"
    }
   ],
   "source": [
    "var_w = np.average(([0,150,300]-esp_w)**2, weights=[P_NN, P_SN, P_SS])\n",
    "var_w"
   ]
  },
  {
   "cell_type": "markdown",
   "metadata": {},
   "source": [
    "<div id=\"ex4\"></div>\n",
    "\n",
    "### EXERCÍCIO 4\n",
    "\n",
    "Baseado nas propriedades da esperança (nos slides), calcule o valor esperado para a nova comissão em cada uma das opções.\n",
    "\n",
    "*Resposta esperada para esperança opção 1 e 2 respectivamente: 50.0 reais ; 60.0 reais*"
   ]
  },
  {
   "cell_type": "code",
   "execution_count": 128,
   "metadata": {},
   "outputs": [
    {
     "data": {
      "text/plain": [
       "50.0"
      ]
     },
     "execution_count": 128,
     "metadata": {},
     "output_type": "execute_result"
    }
   ],
   "source": [
    "# ESCREVA SEU CÓDIGO AQUI\n",
    "esp_y2 = esp+30\n",
    "esp_y2"
   ]
  },
  {
   "cell_type": "code",
   "execution_count": 129,
   "metadata": {},
   "outputs": [
    {
     "data": {
      "text/plain": [
       "60.0"
      ]
     },
     "execution_count": 129,
     "metadata": {},
     "output_type": "execute_result"
    }
   ],
   "source": [
    "esp_w2 = 3*esp\n",
    "esp_w2"
   ]
  },
  {
   "cell_type": "markdown",
   "metadata": {},
   "source": [
    "<div id=\"ex5\"></div>\n",
    "\n",
    "### EXERCÍCIO 5\n",
    "\n",
    "Baseado nas propriedades da variância (nos slides), calcule a variância para a nova comissão em cada uma das opções.\n",
    "\n",
    "*Resposta esperada para variância opção 1 e 2 respectivamente: 800.0 reais^2 ; 7200.0 reais^2*"
   ]
  },
  {
   "cell_type": "code",
   "execution_count": 130,
   "metadata": {},
   "outputs": [
    {
     "data": {
      "text/plain": [
       "800.0"
      ]
     },
     "execution_count": 130,
     "metadata": {},
     "output_type": "execute_result"
    }
   ],
   "source": [
    "# ESCREVA SEU CÓDIGO AQUI\n",
    "var_y2 = var\n",
    "var_y2"
   ]
  },
  {
   "cell_type": "code",
   "execution_count": 131,
   "metadata": {},
   "outputs": [
    {
     "data": {
      "text/plain": [
       "7200.0"
      ]
     },
     "execution_count": 131,
     "metadata": {},
     "output_type": "execute_result"
    }
   ],
   "source": [
    "var_w2 = 3**2*var\n",
    "var_w2"
   ]
  },
  {
   "cell_type": "markdown",
   "metadata": {},
   "source": [
    "<div id=\"ex6\"></div>\n",
    "\n",
    "### EXERCÍCIO 6\n",
    "\n",
    "Baseado nos resultados acima, qual opção você recomendaria para um corretor?"
   ]
  },
  {
   "cell_type": "raw",
   "metadata": {},
   "source": [
    "ESCREVA SUA RESPOSTA AQUI\n",
    "Caso o corretor desejasse ter uma volatilidade baixa eu recomendaria a opção Y,\n",
    "mas se ele não tivesse problemas com variações no seu salário, recomendaria a opção W, pois esta geraria um retorno maior, em média\n"
   ]
  },
  {
   "cell_type": "markdown",
   "metadata": {},
   "source": [
    "# Referências\n",
    "\n",
    "1. MONTGOMERY, D. et al. Estatística Aplicada e Probabilidade para Engenheiros. 6. ed. Seções 2.8 e 3.1\n",
    "1. MAGALHÃES, M. et al. Noções de Probabilidade e Estatística. 7. ed. Seções 3.1 e definições 4.2 (p. 110) e 4.5 (p. 121)"
   ]
  }
 ],
 "metadata": {
  "kernelspec": {
   "display_name": "Python 3",
   "language": "python",
   "name": "python3"
  },
  "language_info": {
   "codemirror_mode": {
    "name": "ipython",
    "version": 3
   },
   "file_extension": ".py",
   "mimetype": "text/x-python",
   "name": "python",
   "nbconvert_exporter": "python",
   "pygments_lexer": "ipython3",
   "version": "3.10.9"
  }
 },
 "nbformat": 4,
 "nbformat_minor": 4
}
