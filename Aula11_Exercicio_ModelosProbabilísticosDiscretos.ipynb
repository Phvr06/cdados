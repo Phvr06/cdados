{
 "cells": [
  {
   "cell_type": "markdown",
   "metadata": {},
   "source": [
    "___\n",
    "# Exercício: <p> <center> Modelos probabilísticos discretos\n",
    "___\n",
    "\n",
    "## Aula 11"
   ]
  },
  {
   "cell_type": "markdown",
   "metadata": {},
   "source": [
    "___\n",
    "<div id=\"indice\"></div>\n",
    "\n",
    "## Índice\n",
    "\n",
    " - [Exercício 1](#ex1) **- APS6 disponível no Blackboard**\n",
    " - [Exercício 2](#ex2) \n",
    " - [Exercício 3](#ex3) **- APS6 disponível no Blackboard**\n",
    " - [Exercício 4](#ex4) \n",
    " \n",
    " - [Respostas esperadas](#resps)"
   ]
  },
  {
   "cell_type": "code",
   "execution_count": 212,
   "metadata": {},
   "outputs": [],
   "source": [
    "from scipy import stats #importa apenas as funções de estatísticas da biblioteca SciPy.\n",
    "\n",
    "# Importe outras bibliotecas se julgar necessário"
   ]
  },
  {
   "cell_type": "markdown",
   "metadata": {},
   "source": [
    "___\n",
    "<div id=\"ex1\"></div>\n",
    "\n",
    "### EXERCÍCIO 1\n",
    "A mortalidade de microempresas no 1º ano de funcionamento é da ordem de 55%. <br>\n",
    "Deseja-se avaliar as causas da mortalidade. <p>\n",
    "Numa amostra de 10 empresas:<br>\n",
    "(a) qual á a probabilidade de exatamente 5 terem falido ao final do 1º ano?<br>\n",
    "(b) qual é a probabilidade de pelo menos 3 virem a falir no 1º ano?<br>\n",
    "(c) sabe-se que pelo menos 3 faliram no 1º ano, qual é a probabilidade de no máximo 5 terem falido?<br>\n",
    "(d) qual o número esperado de empresas que irão à falência no 1º ano na amostra? E o desvio padrão?<br>\n"
   ]
  },
  {
   "cell_type": "code",
   "execution_count": 213,
   "metadata": {},
   "outputs": [
    {
     "data": {
      "text/plain": [
       "0.23403270759257822"
      ]
     },
     "execution_count": 213,
     "metadata": {},
     "output_type": "execute_result"
    }
   ],
   "source": [
    "# item (a)\n",
    "# ESCREVA SUA RESPOSTA AQUI\n",
    "stats.binom.pmf(5, 10, .55)"
   ]
  },
  {
   "cell_type": "code",
   "execution_count": 214,
   "metadata": {},
   "outputs": [
    {
     "data": {
      "text/plain": [
       "0.9726081607386718"
      ]
     },
     "execution_count": 214,
     "metadata": {},
     "output_type": "execute_result"
    }
   ],
   "source": [
    "# item (b)\n",
    "# ESCREVA SUA RESPOSTA AQUI\n",
    "1 - stats.binom.cdf(2, 10, .55)"
   ]
  },
  {
   "cell_type": "code",
   "execution_count": 215,
   "metadata": {},
   "outputs": [
    {
     "data": {
      "text/plain": [
       "0.48138971888756615"
      ]
     },
     "execution_count": 215,
     "metadata": {},
     "output_type": "execute_result"
    }
   ],
   "source": [
    "# item (c)\n",
    "# ESCREVA SUA RESPOSTA AQUI\n",
    "((1 - stats.binom.cdf(2, 10, .55)) - (1 - stats.binom.cdf(5, 10, .55)))/(1 - stats.binom.cdf(2, 10, .55))"
   ]
  },
  {
   "cell_type": "code",
   "execution_count": 216,
   "metadata": {},
   "outputs": [
    {
     "name": "stdout",
     "output_type": "stream",
     "text": [
      "5.5 2.4749999999999996\n"
     ]
    }
   ],
   "source": [
    "# item (d)\n",
    "# ESCREVA SUA RESPOSTA AQUI\n",
    "E = 10*.55\n",
    "var = 10*.55*(1-0.55)\n",
    "print(E, var)"
   ]
  },
  {
   "cell_type": "markdown",
   "metadata": {},
   "source": [
    "[Volte ao Índice](#indice)"
   ]
  },
  {
   "cell_type": "markdown",
   "metadata": {},
   "source": [
    "<div id=\"ex2\"></div>\n",
    "\n",
    "### EXERCÍCIO 2\n",
    "\n",
    "O número médio de clientes satisfeitos com o atendimento de uma loja, em amostras de 40 clientes escolhidos ao acaso, é de 5,5.<br> \n",
    "Qual é a probabilidade de, numa amostra de 40 clientes escolhidos ao acaso, encontrarmos pelo menos 2 satisfeitos?\n"
   ]
  },
  {
   "cell_type": "code",
   "execution_count": 217,
   "metadata": {},
   "outputs": [],
   "source": [
    "# ESCREVA SUA RESPOSTA AQUI"
   ]
  },
  {
   "cell_type": "markdown",
   "metadata": {},
   "source": [
    "[Volte ao Índice](#indice)"
   ]
  },
  {
   "cell_type": "markdown",
   "metadata": {},
   "source": [
    "<div id=\"ex3\"></div>\n",
    "\n",
    "### EXERCÍCIO 3\n",
    "\n",
    "Um supermercado que tem um cartão de fidelidade classifica os clientes em regular e diamante.  <br>\n",
    "Atualmente 70 % dos clientes são regulares. <br>\n",
    "A direção do supermercado deseja premiar os clientes que, num determinado mês, comprem mais de 1 mil reais. <br>\n",
    "Sabemos que se o cliente é diamante a probabilidade dele fazer uma compra acima de 1 mil reais é de 75%; já para o cliente regular, essa probabilidade é de 5%. <p>\n",
    "\n",
    "(a) Sorteada uma amostra de 20 clientes diamante, qual é a probabilidade de exatamente 12 fazerem uma compra acima de 1 mil reais? <br>\n",
    "(b) Sorteados 20 clientes com a mesma classificação ao acaso, qual a probabilidade de exatamente 12 fazerem uma compra acima de 1 mil reais?<br>\n",
    "(c) Sorteados 20 clientes ao acaso, qual a probabilidade de exatamente 12 fazerem uma compra acima de 1 mil reais?<br>\n",
    "(d) Um gerente está analisando 200 compras efetuadas em um caixa, dessas 120 foram superiores a 1 mil reais. Dessas compras sob análise, deseja-se sortear uma amostra de 20 compras, sendo que a mesma compra não pode ser sorteada mais de uma vez, qual é a probabilidade de 15 terem sido superiores a 1 mil reais? <br>"
   ]
  },
  {
   "cell_type": "code",
   "execution_count": 218,
   "metadata": {},
   "outputs": [
    {
     "data": {
      "text/plain": [
       "0.06088668921620408"
      ]
     },
     "execution_count": 218,
     "metadata": {},
     "output_type": "execute_result"
    }
   ],
   "source": [
    "# item (a)\n",
    "# ESCREVA SUA RESPOSTA AQUI\n",
    "stats.binom.pmf(12, 20, 0.75)"
   ]
  },
  {
   "cell_type": "code",
   "execution_count": 219,
   "metadata": {},
   "outputs": [
    {
     "data": {
      "text/plain": [
       "0.01826600677914339"
      ]
     },
     "execution_count": 219,
     "metadata": {},
     "output_type": "execute_result"
    }
   ],
   "source": [
    "# item (b)\n",
    "# ESCREVA SUA RESPOSTA AQUI\n",
    "stats.binom.pmf(12, 20, 0.75) * 0.3 + stats.binom.pmf(12, 20, 0.05) * 0.7"
   ]
  },
  {
   "cell_type": "code",
   "execution_count": 220,
   "metadata": {},
   "outputs": [
    {
     "data": {
      "text/plain": [
       "0.0010809386926081336"
      ]
     },
     "execution_count": 220,
     "metadata": {},
     "output_type": "execute_result"
    }
   ],
   "source": [
    "# item (c)\n",
    "# ESCREVA SUA RESPOSTA AQUI\n",
    "stats.binom.pmf(12, 20, 0.75*0.3 + 0.05*0.7)"
   ]
  },
  {
   "cell_type": "code",
   "execution_count": 221,
   "metadata": {},
   "outputs": [
    {
     "data": {
      "text/plain": [
       "0.07047763575173921"
      ]
     },
     "execution_count": 221,
     "metadata": {},
     "output_type": "execute_result"
    }
   ],
   "source": [
    "# item (d)\n",
    "# ESCREVA SUA RESPOSTA AQUI\n",
    "\n",
    "Pc1000 = 120/200\n",
    "stats.binom.pmf(15,120, Pc1000) * stats.binom.pmf(5,80, Pc1000)/stats.binom.pmf(20,200, Pc1000)"
   ]
  },
  {
   "cell_type": "markdown",
   "metadata": {},
   "source": [
    "[Volte ao Índice](#indice)"
   ]
  },
  {
   "cell_type": "markdown",
   "metadata": {},
   "source": [
    "<div id=\"ex4\"></div>\n",
    "\n",
    "### EXERCÍCIO 4\n",
    "\n",
    "Um agricultor cultiva laranjas e também produz mudas para vender. <br>\n",
    "Após alguns meses a muda pode ser atacada por fungos com probabilidade 0,05 e, nesse caso, ela é escolhida para ser recuperada com probabilidade 0,5. <br>\n",
    "Admita que o processo de recuperação é infalível. O custo de cada muda produzida é R\\\\$ 1,00; acrescido de R\\\\$1,50 se for para o processo de recuperação. <br>\n",
    "Cada muda é vendida a R\\\\$ 4,00 e são descartadas as mudas que não foram para o processo de recuperação de ataque de fungos. \n",
    "\n",
    "Responda: <br> \n",
    "(a) Qual é a distribuição de probabilidades do lucro (ou seja, pode haver ganho ou prejuízo) por muda produzida pelo agricultor? Justifique claramente todas as contas feitas para obtenção do resultado. <br>\n",
    "(b) O agricultor seleciona aleatoriamente 3 mudas da sua produção de mudas de laranjas para verificar se houve ataque por fungos após alguns meses. Nesse caso: <br>\n",
    "(b.1) Qual é a probabilidade dele encontrar pelo menos 2 mudas que foram atacadas por fungos? Justifique claramente todas as contas feitas para obtenção do resultado. <br>\n",
    "(b.2) Sabendo que o agricultor já encontrou pelo menos 2 mudas que foram atacadas por fungos, qual é a probabilidade de encontrar menos de 3 atacadas por fungos? Justifique claramente todas as contas feitas para obtenção do resultado.\n"
   ]
  },
  {
   "cell_type": "code",
   "execution_count": 222,
   "metadata": {},
   "outputs": [],
   "source": [
    "# item (a)\n",
    "# ESCREVA SUA RESPOSTA AQUI"
   ]
  },
  {
   "cell_type": "code",
   "execution_count": 223,
   "metadata": {},
   "outputs": [],
   "source": [
    "# item (b.1)\n",
    "# ESCREVA SUA RESPOSTA AQUI"
   ]
  },
  {
   "cell_type": "code",
   "execution_count": 224,
   "metadata": {},
   "outputs": [],
   "source": [
    "# item (b.2)\n",
    "# ESCREVA SUA RESPOSTA AQUI"
   ]
  },
  {
   "cell_type": "markdown",
   "metadata": {},
   "source": [
    "[Volte ao Índice](#indice)"
   ]
  },
  {
   "cell_type": "markdown",
   "metadata": {},
   "source": [
    "<div id=\"resps\"></div>\n",
    "\n",
    "## Respostas Esperadas:"
   ]
  },
  {
   "cell_type": "markdown",
   "metadata": {},
   "source": [
    "#### EXERCÍCIO 2<br>\n",
    "*Resposta esperada: p=0,1375. Logo, P(X>=2)=98,02%*"
   ]
  },
  {
   "cell_type": "markdown",
   "metadata": {},
   "source": [
    "#### EXERCÍCIO 4<br>\n",
    "*Respostas esperadas:* <br>\n",
    "*(a) Considere que X represente o lucro por muda e x, seus respectivos valores* <br>\n",
    "<center>x | <center>P(X=x) \n",
    "----------------- | ----------------- \n",
    "<center>-1,00     | <center>0.025     \n",
    "<center> 1,50     | <center>0.025  \n",
    "<center> 3,00     | <center>0.95     \n",
    "    \n",
    "*(b.1) 0.725% (b.2) 98.3%* "
   ]
  }
 ],
 "metadata": {
  "anaconda-cloud": {},
  "kernelspec": {
   "display_name": "Python 3",
   "language": "python",
   "name": "python3"
  },
  "language_info": {
   "codemirror_mode": {
    "name": "ipython",
    "version": 3
   },
   "file_extension": ".py",
   "mimetype": "text/x-python",
   "name": "python",
   "nbconvert_exporter": "python",
   "pygments_lexer": "ipython3",
   "version": "3.10.13"
  }
 },
 "nbformat": 4,
 "nbformat_minor": 1
}
