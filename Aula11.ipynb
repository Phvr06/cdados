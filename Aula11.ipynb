{
 "cells": [
  {
   "cell_type": "code",
   "execution_count": 36,
   "metadata": {},
   "outputs": [],
   "source": [
    "import math as m\n",
    "from scipy import stats"
   ]
  },
  {
   "cell_type": "code",
   "execution_count": 37,
   "metadata": {},
   "outputs": [],
   "source": [
    "def binomio (n, a, b):\n",
    "    termos = []\n",
    "    for k in range(n+1):\n",
    "        termos.append((m.factorial(n)/(m.factorial(k)*m.factorial(n-k)))*a**(n-k)*b**k)\n",
    "    return termos"
   ]
  },
  {
   "cell_type": "code",
   "execution_count": 38,
   "metadata": {},
   "outputs": [
    {
     "name": "stdout",
     "output_type": "stream",
     "text": [
      "0.512 0.384 0.096 0.008\n"
     ]
    }
   ],
   "source": [
    "P_F = 0.2\n",
    "P_Fc = 1 - P_F\n",
    "P0_3 = round(binomio(3, P_Fc, P_F)[0], 4)\n",
    "P1_3 = round(binomio(3, P_Fc, P_F)[1], 4)\n",
    "P2_3 = round(binomio(3, P_Fc, P_F)[2], 4)\n",
    "P3_3 = round(binomio(3, P_Fc, P_F)[3], 4)\n",
    "\n",
    "print(P0_3, P1_3, P2_3, P3_3)"
   ]
  },
  {
   "cell_type": "code",
   "execution_count": 39,
   "metadata": {},
   "outputs": [
    {
     "name": "stdout",
     "output_type": "stream",
     "text": [
      "0.096\n"
     ]
    }
   ],
   "source": [
    "print(P2_3)"
   ]
  },
  {
   "cell_type": "code",
   "execution_count": 40,
   "metadata": {},
   "outputs": [
    {
     "name": "stdout",
     "output_type": "stream",
     "text": [
      "0.09930021480882523\n",
      "0.09930021480882459\n"
     ]
    }
   ],
   "source": [
    "P20_100 = binomio(100, P_Fc, P_F)[20]\n",
    "Pteste = stats.binom.pmf(20, 100, 0.2)\n",
    "print(P20_100)\n",
    "print(Pteste)"
   ]
  }
 ],
 "metadata": {
  "kernelspec": {
   "display_name": "base",
   "language": "python",
   "name": "python3"
  },
  "language_info": {
   "codemirror_mode": {
    "name": "ipython",
    "version": 3
   },
   "file_extension": ".py",
   "mimetype": "text/x-python",
   "name": "python",
   "nbconvert_exporter": "python",
   "pygments_lexer": "ipython3",
   "version": "3.10.13"
  },
  "orig_nbformat": 4
 },
 "nbformat": 4,
 "nbformat_minor": 2
}
