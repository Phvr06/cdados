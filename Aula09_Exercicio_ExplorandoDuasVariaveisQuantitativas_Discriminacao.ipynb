{
 "cells": [
  {
   "cell_type": "markdown",
   "metadata": {},
   "source": [
    "___\n",
    "# Exercício: <p> <center> Análise Exploratória - Associação entre duas Variáveis Quantitativas\n",
    "___\n",
    "\n",
    "## Aula 09"
   ]
  },
  {
   "cell_type": "markdown",
   "metadata": {},
   "source": [
    "___\n",
    "<div id=\"indice\"></div>\n",
    "\n",
    "## Índice\n",
    "\n",
    "- [Discriminação Salarial](#discriminacao-salarial)\n",
    "    - [Exercício 1](#ex1) **- APS5 disponível no Blackboard**\n",
    "    - [Exercício 2](#ex2) \n",
    "    - [Exercício 3](#ex3) **- APS5 disponível no Blackboard**\n",
    "    - [Exercício 4](#ex4) **- APS5 disponível no Blackboard**\n",
    "    - [Exercício 5](#ex5) **- APS5 disponível no Blackboard**\n",
    "    - [Exercício 6](#ex6) **- APS5 disponível no Blackboard**\n",
    "    - [Exercício 7](#ex7)\n",
    "    - [Exercício 8](#ex8)\n",
    "    - [Exercício 9 [EXTRA]](#ex9)\n",
    "    - [Exercício 10 [EXTRA]](#ex10)\n",
    "    - [Exercício 11 [EXTRA]](#ex11)"
   ]
  },
  {
   "cell_type": "code",
   "execution_count": 164,
   "metadata": {},
   "outputs": [
    {
     "name": "stdout",
     "output_type": "stream",
     "text": [
      "Esperamos trabalhar no diretório\n",
      "c:\\Users\\ribei\\OneDrive\\Área de Trabalho\\cdados\\cdados\n"
     ]
    }
   ],
   "source": [
    "#%matplotlib inline\n",
    "import pandas as pd\n",
    "import matplotlib.pyplot as plt\n",
    "import numpy as np\n",
    "import os\n",
    "\n",
    "print('Esperamos trabalhar no diretório')\n",
    "print(os.getcwd())"
   ]
  },
  {
   "cell_type": "markdown",
   "metadata": {},
   "source": [
    "___\n",
    "<div id=\"discriminacao-salarial\"></div>\n",
    "\n",
    "# Discriminação Salarial\n",
    "\n",
    "<img src=\"disparidade-salarial.jpg\" height=\"400\">\n",
    "\n",
    "Fonte: extraído da internet"
   ]
  },
  {
   "cell_type": "markdown",
   "metadata": {},
   "source": [
    "Uma empresa está sendo **acusada de pagar um salário maior para os homens do que para as mulheres**. \n",
    "Para justificar a acusação, apresentou-se uma lista de salários de uma amostra de funcionários. \n",
    "**Essa empresa tem motivos para se preocupar?**\n",
    "\n",
    "A base de dados `Discriminação.xlsx` apresenta, para cada funcionário, as variáveis:\n",
    "\n",
    "1. Sexo: `'fem'` ou `'masc'`;\n",
    "2. Anos: anos no emprego; e \n",
    "3. Salario: remuneração mensal, em milhares de reais. \n"
   ]
  },
  {
   "cell_type": "code",
   "execution_count": 165,
   "metadata": {},
   "outputs": [],
   "source": [
    "dados = pd.read_excel('Discriminacao.xlsx')"
   ]
  },
  {
   "cell_type": "code",
   "execution_count": 166,
   "metadata": {},
   "outputs": [
    {
     "data": {
      "text/html": [
       "<div>\n",
       "<style scoped>\n",
       "    .dataframe tbody tr th:only-of-type {\n",
       "        vertical-align: middle;\n",
       "    }\n",
       "\n",
       "    .dataframe tbody tr th {\n",
       "        vertical-align: top;\n",
       "    }\n",
       "\n",
       "    .dataframe thead th {\n",
       "        text-align: right;\n",
       "    }\n",
       "</style>\n",
       "<table border=\"1\" class=\"dataframe\">\n",
       "  <thead>\n",
       "    <tr style=\"text-align: right;\">\n",
       "      <th></th>\n",
       "      <th>Sexo</th>\n",
       "      <th>Anos</th>\n",
       "      <th>Salario</th>\n",
       "    </tr>\n",
       "  </thead>\n",
       "  <tbody>\n",
       "    <tr>\n",
       "      <th>47</th>\n",
       "      <td>masc</td>\n",
       "      <td>22</td>\n",
       "      <td>42</td>\n",
       "    </tr>\n",
       "    <tr>\n",
       "      <th>48</th>\n",
       "      <td>masc</td>\n",
       "      <td>12</td>\n",
       "      <td>55</td>\n",
       "    </tr>\n",
       "    <tr>\n",
       "      <th>49</th>\n",
       "      <td>masc</td>\n",
       "      <td>21</td>\n",
       "      <td>39</td>\n",
       "    </tr>\n",
       "    <tr>\n",
       "      <th>50</th>\n",
       "      <td>masc</td>\n",
       "      <td>6</td>\n",
       "      <td>37</td>\n",
       "    </tr>\n",
       "    <tr>\n",
       "      <th>51</th>\n",
       "      <td>masc</td>\n",
       "      <td>25</td>\n",
       "      <td>68</td>\n",
       "    </tr>\n",
       "    <tr>\n",
       "      <th>52</th>\n",
       "      <td>masc</td>\n",
       "      <td>27</td>\n",
       "      <td>64</td>\n",
       "    </tr>\n",
       "    <tr>\n",
       "      <th>53</th>\n",
       "      <td>masc</td>\n",
       "      <td>9</td>\n",
       "      <td>35</td>\n",
       "    </tr>\n",
       "    <tr>\n",
       "      <th>54</th>\n",
       "      <td>masc</td>\n",
       "      <td>15</td>\n",
       "      <td>48</td>\n",
       "    </tr>\n",
       "    <tr>\n",
       "      <th>55</th>\n",
       "      <td>masc</td>\n",
       "      <td>0</td>\n",
       "      <td>42</td>\n",
       "    </tr>\n",
       "    <tr>\n",
       "      <th>56</th>\n",
       "      <td>masc</td>\n",
       "      <td>3</td>\n",
       "      <td>31</td>\n",
       "    </tr>\n",
       "    <tr>\n",
       "      <th>57</th>\n",
       "      <td>masc</td>\n",
       "      <td>0</td>\n",
       "      <td>38</td>\n",
       "    </tr>\n",
       "    <tr>\n",
       "      <th>58</th>\n",
       "      <td>masc</td>\n",
       "      <td>4</td>\n",
       "      <td>26</td>\n",
       "    </tr>\n",
       "    <tr>\n",
       "      <th>59</th>\n",
       "      <td>masc</td>\n",
       "      <td>0</td>\n",
       "      <td>35</td>\n",
       "    </tr>\n",
       "    <tr>\n",
       "      <th>60</th>\n",
       "      <td>masc</td>\n",
       "      <td>12</td>\n",
       "      <td>33</td>\n",
       "    </tr>\n",
       "    <tr>\n",
       "      <th>61</th>\n",
       "      <td>masc</td>\n",
       "      <td>13</td>\n",
       "      <td>40</td>\n",
       "    </tr>\n",
       "    <tr>\n",
       "      <th>62</th>\n",
       "      <td>masc</td>\n",
       "      <td>10</td>\n",
       "      <td>29</td>\n",
       "    </tr>\n",
       "    <tr>\n",
       "      <th>63</th>\n",
       "      <td>masc</td>\n",
       "      <td>0</td>\n",
       "      <td>27</td>\n",
       "    </tr>\n",
       "    <tr>\n",
       "      <th>64</th>\n",
       "      <td>masc</td>\n",
       "      <td>11</td>\n",
       "      <td>31</td>\n",
       "    </tr>\n",
       "    <tr>\n",
       "      <th>65</th>\n",
       "      <td>masc</td>\n",
       "      <td>2</td>\n",
       "      <td>24</td>\n",
       "    </tr>\n",
       "    <tr>\n",
       "      <th>66</th>\n",
       "      <td>masc</td>\n",
       "      <td>15</td>\n",
       "      <td>33</td>\n",
       "    </tr>\n",
       "  </tbody>\n",
       "</table>\n",
       "</div>"
      ],
      "text/plain": [
       "    Sexo  Anos  Salario\n",
       "47  masc    22       42\n",
       "48  masc    12       55\n",
       "49  masc    21       39\n",
       "50  masc     6       37\n",
       "51  masc    25       68\n",
       "52  masc    27       64\n",
       "53  masc     9       35\n",
       "54  masc    15       48\n",
       "55  masc     0       42\n",
       "56  masc     3       31\n",
       "57  masc     0       38\n",
       "58  masc     4       26\n",
       "59  masc     0       35\n",
       "60  masc    12       33\n",
       "61  masc    13       40\n",
       "62  masc    10       29\n",
       "63  masc     0       27\n",
       "64  masc    11       31\n",
       "65  masc     2       24\n",
       "66  masc    15       33"
      ]
     },
     "execution_count": 166,
     "metadata": {},
     "output_type": "execute_result"
    }
   ],
   "source": [
    "dados.tail(20)"
   ]
  },
  {
   "cell_type": "markdown",
   "metadata": {},
   "source": [
    "___\n",
    "\n",
    "<div id=\"ex1\"></div>\n",
    "\n",
    "### EXERCÍCIO 1:\n",
    "\n",
    "Vamos começar com uma análise descritiva utilizando as ferramentas estatísticas e computacionais que vimos até o momento. Faça essa análise com olhar na preocupação da empresa. Imprima as medidas resumo de posição (média, quartis, máximo, mínimo) e de dispersão (desvio padrão) para o `Salario` dos seguintes grupos:\n",
    "\n",
    "1. Conjunto de dados inteiro\n",
    "2. Somente mulheres\n",
    "3. Somente homens\n",
    "\n",
    "**Preencha os valores das 3 médias na questão 1 da APS5, no Blackboard**."
   ]
  },
  {
   "cell_type": "code",
   "execution_count": 167,
   "metadata": {},
   "outputs": [
    {
     "data": {
      "text/plain": [
       "count    67.000000\n",
       "mean     38.343284\n",
       "std      10.221119\n",
       "min      22.000000\n",
       "25%      31.000000\n",
       "50%      37.000000\n",
       "75%      42.000000\n",
       "max      69.000000\n",
       "Name: Salario, dtype: float64"
      ]
     },
     "execution_count": 167,
     "metadata": {},
     "output_type": "execute_result"
    }
   ],
   "source": [
    "# Escreva seu código aqui\n",
    "dados.Salario.describe()"
   ]
  },
  {
   "cell_type": "code",
   "execution_count": 168,
   "metadata": {},
   "outputs": [
    {
     "data": {
      "text/plain": [
       "count    35.000000\n",
       "mean     40.971429\n",
       "std      11.733526\n",
       "min      24.000000\n",
       "25%      33.000000\n",
       "50%      39.000000\n",
       "75%      47.000000\n",
       "max      69.000000\n",
       "Name: Salario, dtype: float64"
      ]
     },
     "execution_count": 168,
     "metadata": {},
     "output_type": "execute_result"
    }
   ],
   "source": [
    "dados.loc[dados.Sexo == 'masc', :]['Salario'].describe()"
   ]
  },
  {
   "cell_type": "code",
   "execution_count": 169,
   "metadata": {},
   "outputs": [
    {
     "data": {
      "text/plain": [
       "count    32.000000\n",
       "mean     35.468750\n",
       "std       7.422652\n",
       "min      22.000000\n",
       "25%      29.750000\n",
       "50%      35.000000\n",
       "75%      40.000000\n",
       "max      52.000000\n",
       "Name: Salario, dtype: float64"
      ]
     },
     "execution_count": 169,
     "metadata": {},
     "output_type": "execute_result"
    }
   ],
   "source": [
    "dados.loc[dados.Sexo == 'fem', :]['Salario'].describe()"
   ]
  },
  {
   "cell_type": "markdown",
   "metadata": {},
   "source": [
    "<div id=\"ex2\"></div>\n",
    "\n",
    "### EXERCÍCIO 2:\n",
    "\n",
    "Baseando-se nos resultados acima, que indícios você pode formular quanto a suspeita de que a empresa está pagando salários mais baixos às mulheres?"
   ]
  },
  {
   "cell_type": "raw",
   "metadata": {},
   "source": [
    "ESCREVA AQUI SUA RESPOSTA"
   ]
  },
  {
   "cell_type": "markdown",
   "metadata": {},
   "source": [
    "<div id=\"ex3\"></div>\n",
    "\n",
    "### EXERCÍCIO 3:\n",
    "\n",
    "Calcule os coeficientes de covariância entre as variáveis `Anos` e `Salario` para as mulheres e para os homens, separadamente. **Preencha os dois valores na questão 2 da APS5, no Blackboard**."
   ]
  },
  {
   "cell_type": "code",
   "execution_count": 170,
   "metadata": {},
   "outputs": [
    {
     "data": {
      "text/plain": [
       "61.4781512605042"
      ]
     },
     "execution_count": 170,
     "metadata": {},
     "output_type": "execute_result"
    }
   ],
   "source": [
    "# Escreva seu código aqui\n",
    "dados.loc[dados.Sexo == 'masc', :]['Salario'].cov(dados.loc[dados.Sexo == 'masc', :]['Anos'])"
   ]
  },
  {
   "cell_type": "code",
   "execution_count": 171,
   "metadata": {},
   "outputs": [
    {
     "data": {
      "text/plain": [
       "28.933467741935484"
      ]
     },
     "execution_count": 171,
     "metadata": {},
     "output_type": "execute_result"
    }
   ],
   "source": [
    "dados.loc[dados.Sexo == 'fem', :]['Salario'].cov(dados.loc[dados.Sexo == 'fem', :]['Anos'])"
   ]
  },
  {
   "cell_type": "markdown",
   "metadata": {},
   "source": [
    "<div id=\"ex4\"></div>\n",
    "\n",
    "### EXERCÍCIO 4:\n",
    "\n",
    "Baseando-se nos **coeficientes de covariância** acima, você pode concluir que (indique todas as opções corretas):\n",
    "\n",
    "<ol style=\"list-style-type: upper-alpha;\">\n",
    "    <li>Existe uma associação linear <b>negativa</b> entre os <code>Anos</code> na empresa e o <code>Salario</code> das mulheres</li>\n",
    "    <li>Existe uma associação linear <b>negativa</b> entre os <code>Anos</code> na empresa e o <code>Salario</code> dos homens</li>\n",
    "    <li>Existe uma associação linear <b>positiva</b> entre os <code>Anos</code> na empresa e o <code>Salario</code> das mulheres</li>\n",
    "    <li>Existe uma associação linear <b>positiva</b> entre os <code>Anos</code> na empresa e o <code>Salario</code> dos homens</li>\n",
    "    <li>Existe uma associação linear <b>fraca</b> entre os <code>Anos</code> na empresa e o <code>Salario</code> das mulheres</li>\n",
    "    <li>Existe uma associação linear <b>fraca</b> entre os <code>Anos</code> na empresa e o <code>Salario</code> dos homens</li>\n",
    "    <li>Existe uma associação linear <b>moderada/forte</b> entre os <code>Anos</code> na empresa e o <code>Salario</code> das mulheres</li>\n",
    "    <li>Existe uma associação linear <b>moderada/forte</b> entre os <code>Anos</code> na empresa e o <code>Salario</code> dos homens</li>\n",
    "</ol>\n",
    "\n",
    "**Indique sua resposta na questão 3 da APS5, no Blackboard.**"
   ]
  },
  {
   "cell_type": "raw",
   "metadata": {},
   "source": [
    "ESCREVA SUA RESPOSTA AQUI\n",
    "CD"
   ]
  },
  {
   "cell_type": "markdown",
   "metadata": {},
   "source": [
    "<div id=\"ex5\"></div>\n",
    "\n",
    "### EXERCÍCIO 5:\n",
    "\n",
    "Calcule os coeficientes de correlação linear entre as variáveis `Anos` e `Salario` para as mulheres e para os homens, separadamente. **Preencha os dois valores na questão 4 da APS5, no Blackboard**."
   ]
  },
  {
   "cell_type": "code",
   "execution_count": 172,
   "metadata": {},
   "outputs": [
    {
     "data": {
      "text/plain": [
       "0.6739986401774645"
      ]
     },
     "execution_count": 172,
     "metadata": {},
     "output_type": "execute_result"
    }
   ],
   "source": [
    "# Escreva seu código aqui\n",
    "dados.loc[dados.Sexo == 'masc', :]['Salario'].corr(dados.loc[dados.Sexo == 'masc', :]['Anos'])"
   ]
  },
  {
   "cell_type": "code",
   "execution_count": 173,
   "metadata": {},
   "outputs": [
    {
     "data": {
      "text/plain": [
       "0.8022389898226462"
      ]
     },
     "execution_count": 173,
     "metadata": {},
     "output_type": "execute_result"
    }
   ],
   "source": [
    "dados.loc[dados.Sexo == 'fem', :]['Salario'].corr(dados.loc[dados.Sexo == 'fem', :]['Anos'])"
   ]
  },
  {
   "cell_type": "markdown",
   "metadata": {},
   "source": [
    "<div id=\"ex6\"></div>\n",
    "\n",
    "### EXERCÍCIO 6:\n",
    "\n",
    "Baseando-se nos **coeficientes de correlação linear** acima, você pode concluir que (indique todas as opções corretas):\n",
    "\n",
    "<ol style=\"list-style-type: upper-alpha;\">\n",
    "    <li>Existe uma associação linear <b>negativa</b> entre os <code>Anos</code> na empresa e o <code>Salario</code> das mulheres</li>\n",
    "    <li>Existe uma associação linear <b>negativa</b> entre os <code>Anos</code> na empresa e o <code>Salario</code> dos homens</li>\n",
    "    <li>Existe uma associação linear <b>positiva</b> entre os <code>Anos</code> na empresa e o <code>Salario</code> das mulheres</li>\n",
    "    <li>Existe uma associação linear <b>positiva</b> entre os <code>Anos</code> na empresa e o <code>Salario</code> dos homens</li>\n",
    "    <li>Existe uma associação linear <b>fraca</b> entre os <code>Anos</code> na empresa e o <code>Salario</code> das mulheres</li>\n",
    "    <li>Existe uma associação linear <b>fraca</b> entre os <code>Anos</code> na empresa e o <code>Salario</code> dos homens</li>\n",
    "    <li>Existe uma associação linear <b>moderada/forte</b> entre os <code>Anos</code> na empresa e o <code>Salario</code> das mulheres</li>\n",
    "    <li>Existe uma associação linear <b>moderada/forte</b> entre os <code>Anos</code> na empresa e o <code>Salario</code> dos homens</li>\n",
    "</ol>\n",
    "\n",
    "**Indique sua resposta na questão 5 da APS5, no Blackboard.**"
   ]
  },
  {
   "cell_type": "raw",
   "metadata": {},
   "source": [
    "ESCREVA SUA RESPOSTA AQUI\n",
    "CDGH"
   ]
  },
  {
   "cell_type": "markdown",
   "metadata": {},
   "source": [
    "<div id=\"ex7\"></div>\n",
    "\n",
    "### EXERCÍCIO 7:\n",
    "\n",
    "Gere os gráficos de dispersão de anos na empresa versus salário mensal para as mulheres e para os homens. Utilize cores diferentes para cada grupo e gere o gráfico em **uma figura única**."
   ]
  },
  {
   "cell_type": "code",
   "execution_count": 174,
   "metadata": {},
   "outputs": [],
   "source": [
    "# Escreva seu código aqui"
   ]
  },
  {
   "cell_type": "markdown",
   "metadata": {},
   "source": [
    "<div id=\"ex8\"></div>\n",
    "\n",
    "### EXERCÍCIO 8:\n",
    "\n",
    "Como as informações do gráfico acima se relacionam às suas hipóteses no [exercício 2](#ex2)? Você mudaria a sua opinião quanto à suspeita de discriminação salarial? Explique."
   ]
  },
  {
   "cell_type": "raw",
   "metadata": {},
   "source": [
    "ESCREVA AQUI SUA RESPOSTA"
   ]
  },
  {
   "cell_type": "markdown",
   "metadata": {},
   "source": [
    "<div id=\"ex9\"></div>\n",
    "\n",
    "### EXERCÍCIO 9 [EXTRA]:\n",
    "\n",
    "Vamos analisar os dados divididos por faixas de anos na empresa. Crie uma nova coluna `'Faixa'` em `dados` contendo as faixas de anos na empresa. Divida a variável `Anos` em tantas faixas necessárias necessárias para iniciar em 0 (inclusive) e terminar em 30 (exclusive) com amplitude das faixas de 3 anos. *Dica: use a função `pd.cut` e altere alguns argumentos dessa função*.\n"
   ]
  },
  {
   "cell_type": "code",
   "execution_count": 175,
   "metadata": {},
   "outputs": [],
   "source": [
    "# Escreva seu código aqui"
   ]
  },
  {
   "cell_type": "markdown",
   "metadata": {},
   "source": [
    "<div id=\"ex10\"></div>\n",
    "\n",
    "### EXERCÍCIO 10 &#x2605;&#x2605;&#x2605; [EXTRA]:\n",
    "\n",
    "Imprima as mesmas estatísticas do [exercício 1](#ex1) (salários de todas as pessoas da base de dados, salários das mulheres e salários dos homens), mas agora agrupando por `Faixa`. Dica: use a função `.groupby` de um `DataFrame`."
   ]
  },
  {
   "cell_type": "code",
   "execution_count": 176,
   "metadata": {},
   "outputs": [],
   "source": [
    "# Escreva seu código aqui"
   ]
  },
  {
   "cell_type": "markdown",
   "metadata": {},
   "source": [
    "<div id=\"ex11\"></div>\n",
    "\n",
    "### EXERCÍCIO 11 [EXTRA]:\n",
    "\n",
    "O resultado acima dá indícios para confirmar ou rejeitar a sua hipótese do [exercício 8](#ex8)?"
   ]
  },
  {
   "cell_type": "raw",
   "metadata": {},
   "source": [
    "ESCREVA AQUI SUA RESPOSTA"
   ]
  }
 ],
 "metadata": {
  "anaconda-cloud": {},
  "kernelspec": {
   "display_name": "Python 3",
   "language": "python",
   "name": "python3"
  },
  "language_info": {
   "codemirror_mode": {
    "name": "ipython",
    "version": 3
   },
   "file_extension": ".py",
   "mimetype": "text/x-python",
   "name": "python",
   "nbconvert_exporter": "python",
   "pygments_lexer": "ipython3",
   "version": "3.10.13"
  }
 },
 "nbformat": 4,
 "nbformat_minor": 2
}
